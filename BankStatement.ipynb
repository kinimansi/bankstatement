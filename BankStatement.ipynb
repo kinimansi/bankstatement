{
 "cells": [
  {
   "cell_type": "markdown",
   "metadata": {},
   "source": [
    "# Extracting data from bank statement pdf"
   ]
  },
  {
   "cell_type": "markdown",
   "metadata": {},
   "source": [
    "importing required modules"
   ]
  },
  {
   "cell_type": "code",
   "execution_count": 1,
   "metadata": {},
   "outputs": [],
   "source": [
    "import PyPDF2"
   ]
  },
  {
   "cell_type": "markdown",
   "metadata": {},
   "source": [
    "Creating File  Object"
   ]
  },
  {
   "cell_type": "code",
   "execution_count": 2,
   "metadata": {},
   "outputs": [],
   "source": [
    "pdfFileObj = open('statement_sample1.pdf', 'rb')"
   ]
  },
  {
   "cell_type": "markdown",
   "metadata": {},
   "source": [
    "creating a pdf reader object"
   ]
  },
  {
   "cell_type": "code",
   "execution_count": 3,
   "metadata": {},
   "outputs": [
    {
     "name": "stderr",
     "output_type": "stream",
     "text": [
      "PdfReadWarning: Xref table not zero-indexed. ID numbers for objects will be corrected. [pdf.py:1736]\n"
     ]
    }
   ],
   "source": [
    "pdfReader = PyPDF2.PdfFileReader(pdfFileObj)"
   ]
  },
  {
   "cell_type": "code",
   "execution_count": 4,
   "metadata": {},
   "outputs": [
    {
     "name": "stdout",
     "output_type": "stream",
     "text": [
      "1\n"
     ]
    }
   ],
   "source": [
    "print(pdfReader.numPages)"
   ]
  },
  {
   "cell_type": "code",
   "execution_count": 5,
   "metadata": {},
   "outputs": [],
   "source": [
    "pageObj = pdfReader.getPage(0)"
   ]
  },
  {
   "cell_type": "markdown",
   "metadata": {},
   "source": [
    "Extracting text From page"
   ]
  },
  {
   "cell_type": "code",
   "execution_count": 6,
   "metadata": {},
   "outputs": [
    {
     "name": "stdout",
     "output_type": "stream",
     "text": [
      "1000 WalnutKansas City MO 64106-3686Jane Customer1234 Anywhere Dr.Small Town, MO 12345-6789\n",
      "Primary Account Number:\n",
      "000009752Bank StatementIf you have any questions about your statement, \n",
      "Statement Date:              June 5, \n",
      "2003please call us at 816-234-2265\n",
      "Page Number:                                         1\n",
      "CONNECTIONS CHECKINGAccount # 000009752 Account Su\n",
      "mmaryAccount # 000009752Beginning Balance on May 3, 2003                      \n",
      "$7,126.11Deposits & Other Credits         +3,615.08\n",
      "ATM Withdrawals & Debits               -20.00\n",
      "VISA Check Card Purchases & Debits                 \n",
      "-0.00Withdrawals & Other Debits      -0.00\n",
      "Checks Paid             -200.00\n",
      "          Ending Balance on June 5, 2003\n",
      "$10,521.19Deposits & Other CreditsAccount # 000009752DescriptionDate Credited                    Amount\n",
      "DepositRef Nbr:     130012345                           05-15                                      $3,615.08\n",
      "Total Deposits & Other Credits                      $3,615.08\n",
      "ATM Withdrawals & Debits\n",
      "Account # 000009752Description                                                                             Tran DateDate Paid                     \n",
      "   AmountATM Withdrawal1000 Walnut St      M119\n",
      "Kansas City MO    00005678                \n",
      "05-18                 05-19  \n",
      "                                      $20.00\n",
      "Total ATM Withdrawals & Debits\n",
      " $20.00\n",
      "ChecksPaid\n",
      "Account # 000009752Date PaidCheck NumberAm\n",
      "ountRef\n",
      "erence Number05-121001\n",
      "75.0000012576589\n",
      "05-181002\n",
      "30.0000036547854\n",
      "05-241003\n",
      "200.0000094613547\n",
      "Total Checks Paid            $305.00\n",
      "\n"
     ]
    }
   ],
   "source": [
    "print(pageObj.extractText())"
   ]
  },
  {
   "cell_type": "markdown",
   "metadata": {},
   "source": [
    "Checking its type"
   ]
  },
  {
   "cell_type": "code",
   "execution_count": 7,
   "metadata": {},
   "outputs": [
    {
     "data": {
      "text/plain": [
       "PyPDF2.pdf.PageObject"
      ]
     },
     "execution_count": 7,
     "metadata": {},
     "output_type": "execute_result"
    }
   ],
   "source": [
    "type(pageObj)"
   ]
  },
  {
   "cell_type": "markdown",
   "metadata": {},
   "source": [
    "Reading and appending data in string format"
   ]
  },
  {
   "cell_type": "code",
   "execution_count": 8,
   "metadata": {},
   "outputs": [],
   "source": [
    "num_pages = pdfReader.numPages\n",
    "count = 0\n",
    "text = \"\"\n",
    "while count < num_pages:\n",
    "    pageObj = pdfReader.getPage(count)\n",
    "    count +=1\n",
    "    text += pageObj.extractText()"
   ]
  },
  {
   "cell_type": "code",
   "execution_count": 9,
   "metadata": {},
   "outputs": [
    {
     "data": {
      "text/plain": [
       "str"
      ]
     },
     "execution_count": 9,
     "metadata": {},
     "output_type": "execute_result"
    }
   ],
   "source": [
    "type(text)"
   ]
  },
  {
   "cell_type": "code",
   "execution_count": 10,
   "metadata": {},
   "outputs": [
    {
     "name": "stdout",
     "output_type": "stream",
     "text": [
      "1000 WalnutKansas City MO 64106-3686Jane Customer1234 Anywhere Dr.Small Town, MO 12345-6789\n",
      "Primary Account Number:\n",
      "000009752Bank StatementIf you have any questions about your statement, \n",
      "Statement Date:              June 5, \n",
      "2003please call us at 816-234-2265\n",
      "Page Number:                                         1\n",
      "CONNECTIONS CHECKINGAccount # 000009752 Account Su\n",
      "mmaryAccount # 000009752Beginning Balance on May 3, 2003                      \n",
      "$7,126.11Deposits & Other Credits         +3,615.08\n",
      "ATM Withdrawals & Debits               -20.00\n",
      "VISA Check Card Purchases & Debits                 \n",
      "-0.00Withdrawals & Other Debits      -0.00\n",
      "Checks Paid             -200.00\n",
      "          Ending Balance on June 5, 2003\n",
      "$10,521.19Deposits & Other CreditsAccount # 000009752DescriptionDate Credited                    Amount\n",
      "DepositRef Nbr:     130012345                           05-15                                      $3,615.08\n",
      "Total Deposits & Other Credits                      $3,615.08\n",
      "ATM Withdrawals & Debits\n",
      "Account # 000009752Description                                                                             Tran DateDate Paid                     \n",
      "   AmountATM Withdrawal1000 Walnut St      M119\n",
      "Kansas City MO    00005678                \n",
      "05-18                 05-19  \n",
      "                                      $20.00\n",
      "Total ATM Withdrawals & Debits\n",
      " $20.00\n",
      "ChecksPaid\n",
      "Account # 000009752Date PaidCheck NumberAm\n",
      "ountRef\n",
      "erence Number05-121001\n",
      "75.0000012576589\n",
      "05-181002\n",
      "30.0000036547854\n",
      "05-241003\n",
      "200.0000094613547\n",
      "Total Checks Paid            $305.00\n",
      "\n"
     ]
    }
   ],
   "source": [
    "print(text)"
   ]
  },
  {
   "cell_type": "code",
   "execution_count": 11,
   "metadata": {},
   "outputs": [
    {
     "name": "stderr",
     "output_type": "stream",
     "text": [
      "[nltk_data] Downloading package punkt to\n",
      "[nltk_data]     C:\\Users\\91839\\AppData\\Roaming\\nltk_data...\n",
      "[nltk_data]   Package punkt is already up-to-date!\n"
     ]
    },
    {
     "data": {
      "text/plain": [
       "True"
      ]
     },
     "execution_count": 11,
     "metadata": {},
     "output_type": "execute_result"
    }
   ],
   "source": [
    "import nltk\n",
    "nltk.download('punkt')"
   ]
  },
  {
   "cell_type": "markdown",
   "metadata": {},
   "source": [
    "Tokenizing data and removing stopwords and punctuations"
   ]
  },
  {
   "cell_type": "code",
   "execution_count": 12,
   "metadata": {},
   "outputs": [],
   "source": [
    "from nltk.tokenize import word_tokenize\n",
    "from nltk.corpus import stopwords\n",
    "tokens = word_tokenize(text)"
   ]
  },
  {
   "cell_type": "code",
   "execution_count": 13,
   "metadata": {},
   "outputs": [],
   "source": [
    "tokens = word_tokenize(text)\n",
    "#We'll create a new list that contains punctuation we wish to clean.\n",
    "punctuations = ['(',')',';',':','[',']',',']"
   ]
  },
  {
   "cell_type": "code",
   "execution_count": 14,
   "metadata": {},
   "outputs": [
    {
     "name": "stderr",
     "output_type": "stream",
     "text": [
      "[nltk_data] Downloading package stopwords to\n",
      "[nltk_data]     C:\\Users\\91839\\AppData\\Roaming\\nltk_data...\n",
      "[nltk_data]   Package stopwords is already up-to-date!\n"
     ]
    },
    {
     "data": {
      "text/plain": [
       "True"
      ]
     },
     "execution_count": 14,
     "metadata": {},
     "output_type": "execute_result"
    }
   ],
   "source": [
    "import nltk\n",
    "nltk.download('stopwords')"
   ]
  },
  {
   "cell_type": "code",
   "execution_count": 15,
   "metadata": {},
   "outputs": [],
   "source": [
    "stop_words = stopwords.words('english')"
   ]
  },
  {
   "cell_type": "code",
   "execution_count": 16,
   "metadata": {},
   "outputs": [],
   "source": [
    "keywords = [word for word in tokens if not word in stop_words and not word in punctuations]"
   ]
  },
  {
   "cell_type": "markdown",
   "metadata": {},
   "source": [
    "printing tokenized data"
   ]
  },
  {
   "cell_type": "code",
   "execution_count": 17,
   "metadata": {},
   "outputs": [
    {
     "name": "stdout",
     "output_type": "stream",
     "text": [
      "['1000', 'WalnutKansas', 'City', 'MO', '64106-3686Jane', 'Customer1234', 'Anywhere', 'Dr.Small', 'Town', 'MO', '12345-6789', 'Primary', 'Account', 'Number', '000009752Bank', 'StatementIf', 'questions', 'statement', 'Statement', 'Date', 'June', '5', '2003please', 'call', 'us', '816-234-2265', 'Page', 'Number', '1', 'CONNECTIONS', 'CHECKINGAccount', '#', '000009752', 'Account', 'Su', 'mmaryAccount', '#', '000009752Beginning', 'Balance', 'May', '3', '2003', '$', '7,126.11Deposits', '&', 'Other', 'Credits', '+3,615.08', 'ATM', 'Withdrawals', '&', 'Debits', '-20.00', 'VISA', 'Check', 'Card', 'Purchases', '&', 'Debits', '-0.00Withdrawals', '&', 'Other', 'Debits', '-0.00', 'Checks', 'Paid', '-200.00', 'Ending', 'Balance', 'June', '5', '2003', '$', '10,521.19Deposits', '&', 'Other', 'CreditsAccount', '#', '000009752DescriptionDate', 'Credited', 'Amount', 'DepositRef', 'Nbr', '130012345', '05-15', '$', '3,615.08', 'Total', 'Deposits', '&', 'Other', 'Credits', '$', '3,615.08', 'ATM', 'Withdrawals', '&', 'Debits', 'Account', '#', '000009752Description', 'Tran', 'DateDate', 'Paid', 'AmountATM', 'Withdrawal1000', 'Walnut', 'St', 'M119', 'Kansas', 'City', 'MO', '00005678', '05-18', '05-19', '$', '20.00', 'Total', 'ATM', 'Withdrawals', '&', 'Debits', '$', '20.00', 'ChecksPaid', 'Account', '#', '000009752Date', 'PaidCheck', 'NumberAm', 'ountRef', 'erence', 'Number05-121001', '75.0000012576589', '05-181002', '30.0000036547854', '05-241003', '200.0000094613547', 'Total', 'Checks', 'Paid', '$', '305.00']\n"
     ]
    }
   ],
   "source": [
    "print(keywords)"
   ]
  },
  {
   "cell_type": "code",
   "execution_count": null,
   "metadata": {},
   "outputs": [],
   "source": []
  }
 ],
 "metadata": {
  "kernelspec": {
   "display_name": "Python 3",
   "language": "python",
   "name": "python3"
  },
  "language_info": {
   "codemirror_mode": {
    "name": "ipython",
    "version": 3
   },
   "file_extension": ".py",
   "mimetype": "text/x-python",
   "name": "python",
   "nbconvert_exporter": "python",
   "pygments_lexer": "ipython3",
   "version": "3.7.4"
  }
 },
 "nbformat": 4,
 "nbformat_minor": 2
}
